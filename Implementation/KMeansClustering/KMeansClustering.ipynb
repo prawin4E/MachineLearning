{
  "cells": [
    {
      "cell_type": "code",
      "execution_count": null,
      "metadata": {},
      "outputs": [],
      "source": [
        "#!/usr/bin/env python\n",
        "# coding: utf-8\n",
        "\n"
      ]
    },
    {
      "cell_type": "markdown",
      "metadata": {},
      "source": [
        "# \ud83c\udfaf K-Means Clustering with Elbow Method\n",
        "\n",
        "## \ud83d\udcca Complete Implementation with Customer Segmentation\n",
        "This comprehensive script demonstrates K-Means Clustering with the Elbow Method\n",
        "Copy sections to Jupyter notebook cells as needed\n",
        "## Cell 1: Import Libraries\n"
      ]
    },
    {
      "cell_type": "code",
      "execution_count": null,
      "metadata": {},
      "outputs": [],
      "source": [
        "import numpy as np\n",
        "import pandas as pd\n",
        "import matplotlib.pyplot as plt\n",
        "import seaborn as sns\n",
        "from mpl_toolkits.mplot3d import Axes3D\n",
        "\n",
        "from sklearn.cluster import KMeans, MiniBatchKMeans\n",
        "from sklearn.preprocessing import StandardScaler, MinMaxScaler\n",
        "from sklearn.metrics import (\n",
        "    silhouette_score, \n",
        "    davies_bouldin_score,\n",
        "    calinski_harabasz_score,\n",
        "    silhouette_samples\n",
        ")\n",
        "\n",
        "from scipy import stats\n",
        "from scipy.spatial.distance import cdist\n",
        "import warnings\n",
        "import pickle\n",
        "import time\n",
        "\n",
        "warnings.filterwarnings('ignore')\n",
        "pd.set_option('display.max_columns', None)\n",
        "pd.set_option('display.width', 1000)\n",
        "plt.style.use('seaborn-v0_8-darkgrid')\n",
        "np.random.seed(42)\n",
        "\n",
        "print(\"\u2705 Libraries imported successfully!\")\n",
        "\n",
        "\n"
      ]
    },
    {
      "cell_type": "markdown",
      "metadata": {},
      "source": [
        "## Cell 2: Load/Create Dataset\n",
        "Try to load dataset or create synthetic data\n"
      ]
    },
    {
      "cell_type": "code",
      "execution_count": null,
      "metadata": {},
      "outputs": [],
      "source": [
        "try:\n",
        "    df = pd.read_csv('../../dataset/Mall_Customers.csv')\n",
        "    print(\"\u2705 Dataset loaded successfully!\")\n",
        "except FileNotFoundError:\n",
        "    print(\"\u26a0\ufe0f Dataset not found. Creating synthetic mall customers data...\")\n",
        "    \n",
        "    np.random.seed(42)\n",
        "    n_samples = 200\n",
        "    \n",
        "    # Create 5 distinct clusters\n",
        "    cluster1 = np.random.multivariate_normal([25, 30], [[20, 0], [0, 20]], 40)\n",
        "    cluster2 = np.random.multivariate_normal([75, 75], [[25, 0], [0, 25]], 40)\n",
        "    cluster3 = np.random.multivariate_normal([25, 75], [[20, 0], [0, 20]], 40)\n",
        "    cluster4 = np.random.multivariate_normal([75, 30], [[25, 0], [0, 25]], 40)\n",
        "    cluster5 = np.random.multivariate_normal([50, 50], [[15, 0], [0, 15]], 40)\n",
        "    \n",
        "    income_spending = np.vstack([cluster1, cluster2, cluster3, cluster4, cluster5])\n",
        "    \n",
        "    data = {\n",
        "        'CustomerID': range(1, n_samples + 1),\n",
        "        'Gender': np.random.choice(['Male', 'Female'], n_samples),\n",
        "        'Age': np.random.randint(18, 71, n_samples),\n",
        "        'Annual Income (k$)': np.clip(income_spending[:, 0], 15, 137).astype(int),\n",
        "        'Spending Score (1-100)': np.clip(income_spending[:, 1], 1, 99).astype(int)\n",
        "    }\n",
        "    \n",
        "    df = pd.DataFrame(data)\n",
        "    print(\"\u2705 Synthetic dataset created successfully!\")\n",
        "\n",
        "print(f\"\\nDataset shape: {df.shape}\")\n",
        "print(df.head())\n",
        "\n",
        "\n"
      ]
    },
    {
      "cell_type": "markdown",
      "metadata": {},
      "source": [
        "## Cell 3: Exploratory Data Analysis (EDA)\n"
      ]
    },
    {
      "cell_type": "code",
      "execution_count": null,
      "metadata": {},
      "outputs": [],
      "source": [
        "print(\"\\n\ud83d\udcca Dataset Information:\")\n",
        "print(\"=\"*70)\n",
        "print(df.info())\n",
        "\n",
        "print(\"\\n\ud83d\udcc8 Statistical Summary:\")\n",
        "print(\"=\"*70)\n",
        "print(df.describe())\n",
        "\n",
        "# Check missing values\n",
        "print(\"\\n\ud83d\udd0d Missing Values:\")\n",
        "print(df.isnull().sum())\n",
        "\n",
        "# Check duplicates\n",
        "duplicates = df.duplicated().sum()\n",
        "print(f\"\\n\ud83d\udd0d Duplicate rows: {duplicates}\")\n",
        "\n",
        "\n"
      ]
    },
    {
      "cell_type": "markdown",
      "metadata": {},
      "source": [
        "## Cell 4: Visualize Feature Distributions\n"
      ]
    },
    {
      "cell_type": "code",
      "execution_count": null,
      "metadata": {},
      "outputs": [],
      "source": [
        "numerical_features = ['Age', 'Annual Income (k$)', 'Spending Score (1-100)']\n",
        "\n",
        "fig, axes = plt.subplots(1, 3, figsize=(18, 5))\n",
        "colors_hist = ['skyblue', 'lightcoral', 'lightgreen']\n",
        "\n",
        "for idx, col in enumerate(numerical_features):\n",
        "    axes[idx].hist(df[col], bins=20, edgecolor='black', alpha=0.7, color=colors_hist[idx])\n",
        "    axes[idx].set_title(f'Distribution of {col}', fontweight='bold', fontsize=12)\n",
        "    axes[idx].set_xlabel(col, fontsize=10)\n",
        "    axes[idx].set_ylabel('Frequency', fontsize=10)\n",
        "    axes[idx].grid(alpha=0.3)\n",
        "\n",
        "plt.tight_layout()\n",
        "plt.savefig('feature_distributions.png', dpi=150, bbox_inches='tight')\n",
        "plt.show()\n",
        "\n",
        "\n"
      ]
    },
    {
      "cell_type": "markdown",
      "metadata": {},
      "source": [
        "## Cell 5: Correlation Analysis\n"
      ]
    },
    {
      "cell_type": "code",
      "execution_count": null,
      "metadata": {},
      "outputs": [],
      "source": [
        "plt.figure(figsize=(10, 8))\n",
        "correlation_matrix = df[numerical_features].corr()\n",
        "sns.heatmap(correlation_matrix, annot=True, fmt='.3f', cmap='coolwarm', \n",
        "            center=0, linewidths=1, square=True, cbar_kws={\"shrink\": 0.8})\n",
        "plt.title('Feature Correlation Matrix', fontsize=16, fontweight='bold', pad=20)\n",
        "plt.tight_layout()\n",
        "plt.savefig('correlation_matrix.png', dpi=150, bbox_inches='tight')\n",
        "plt.show()\n",
        "\n",
        "\n"
      ]
    },
    {
      "cell_type": "markdown",
      "metadata": {},
      "source": [
        "## Cell 6: Income vs Spending Scatter Plot\n"
      ]
    },
    {
      "cell_type": "code",
      "execution_count": null,
      "metadata": {},
      "outputs": [],
      "source": [
        "plt.figure(figsize=(12, 8))\n",
        "plt.scatter(df['Annual Income (k$)'], df['Spending Score (1-100)'], \n",
        "            alpha=0.6, s=100, c='steelblue', edgecolors='black')\n",
        "plt.xlabel('Annual Income (k$)', fontsize=12)\n",
        "plt.ylabel('Spending Score (1-100)', fontsize=12)\n",
        "plt.title('Annual Income vs Spending Score', fontsize=14, fontweight='bold')\n",
        "plt.grid(alpha=0.3)\n",
        "plt.tight_layout()\n",
        "plt.savefig('income_vs_spending.png', dpi=150, bbox_inches='tight')\n",
        "plt.show()\n",
        "\n",
        "print(\"\ud83d\udca1 Visual inspection suggests possible natural groupings in the data!\")\n",
        "\n",
        "\n"
      ]
    },
    {
      "cell_type": "markdown",
      "metadata": {},
      "source": [
        "## Cell 7: Feature Selection and Scaling\n",
        "Select features for clustering\n"
      ]
    },
    {
      "cell_type": "code",
      "execution_count": null,
      "metadata": {},
      "outputs": [],
      "source": [
        "feature_cols = ['Annual Income (k$)', 'Spending Score (1-100)']\n",
        "X = df[feature_cols].values\n",
        "\n",
        "print(f\"\u2705 Features selected: {feature_cols}\")\n",
        "print(f\"Feature matrix shape: {X.shape}\")\n",
        "\n",
        "# Feature Scaling\n",
        "scaler = StandardScaler()\n",
        "X_scaled = scaler.fit_transform(X)\n",
        "\n",
        "print(\"\\n\u2705 Feature scaling completed!\")\n",
        "print(f\"Mean of scaled features: {X_scaled.mean(axis=0).round(10)}\")\n",
        "print(f\"Std of scaled features: {X_scaled.std(axis=0).round(2)}\")\n",
        "\n",
        "\n"
      ]
    },
    {
      "cell_type": "markdown",
      "metadata": {},
      "source": [
        "## Cell 8: Elbow Method - Calculate WCSS\n"
      ]
    },
    {
      "cell_type": "code",
      "execution_count": null,
      "metadata": {},
      "outputs": [],
      "source": [
        "print(\"\\n\ud83d\udd0d Calculating WCSS for K = 1 to 10...\")\n",
        "print(\"=\"*70)\n",
        "\n",
        "K_range = range(1, 11)\n",
        "wcss = []\n",
        "\n",
        "for k in K_range:\n",
        "    kmeans = KMeans(n_clusters=k, init='k-means++', random_state=42, n_init=10)\n",
        "    kmeans.fit(X_scaled)\n",
        "    wcss.append(kmeans.inertia_)\n",
        "    print(f\"K={k:2d} | WCSS (Inertia) = {kmeans.inertia_:.2f}\")\n",
        "\n",
        "print(\"\\n\u2705 WCSS calculation completed!\")\n",
        "\n",
        "\n"
      ]
    },
    {
      "cell_type": "markdown",
      "metadata": {},
      "source": [
        "## Cell 9: Plot Elbow Curve\n"
      ]
    },
    {
      "cell_type": "code",
      "execution_count": null,
      "metadata": {},
      "outputs": [],
      "source": [
        "plt.figure(figsize=(12, 7))\n",
        "plt.plot(K_range, wcss, marker='o', linewidth=2, markersize=10, color='steelblue', \n",
        "         markerfacecolor='red', markeredgecolor='black')\n",
        "plt.xlabel('Number of Clusters (K)', fontsize=13)\n",
        "plt.ylabel('WCSS (Within-Cluster Sum of Squares)', fontsize=13)\n",
        "plt.title('Elbow Method For Optimal K', fontsize=15, fontweight='bold')\n",
        "plt.grid(True, alpha=0.3)\n",
        "plt.xticks(K_range)\n",
        "plt.tight_layout()\n",
        "plt.savefig('elbow_curve.png', dpi=150, bbox_inches='tight')\n",
        "plt.show()\n",
        "\n",
        "print(\"\\n\ud83d\udca1 Look for the 'elbow point' where the curve bends sharply!\")\n",
        "\n",
        "\n"
      ]
    },
    {
      "cell_type": "markdown",
      "metadata": {},
      "source": [
        "## Cell 10: Silhouette Score Analysis\n"
      ]
    },
    {
      "cell_type": "code",
      "execution_count": null,
      "metadata": {},
      "outputs": [],
      "source": [
        "print(\"\\n\ud83d\udd0d Calculating Silhouette Scores for K = 2 to 10...\")\n",
        "print(\"=\"*70)\n",
        "\n",
        "K_range_silhouette = range(2, 11)\n",
        "silhouette_scores = []\n",
        "\n",
        "for k in K_range_silhouette:\n",
        "    kmeans = KMeans(n_clusters=k, init='k-means++', random_state=42, n_init=10)\n",
        "    cluster_labels = kmeans.fit_predict(X_scaled)\n",
        "    silhouette_avg = silhouette_score(X_scaled, cluster_labels)\n",
        "    silhouette_scores.append(silhouette_avg)\n",
        "    print(f\"K={k:2d} | Silhouette Score = {silhouette_avg:.4f}\")\n",
        "\n",
        "print(\"\\n\u2705 Silhouette Score calculation completed!\")\n",
        "\n",
        "\n"
      ]
    },
    {
      "cell_type": "markdown",
      "metadata": {},
      "source": [
        "## Cell 11: Plot Silhouette Scores\n"
      ]
    },
    {
      "cell_type": "code",
      "execution_count": null,
      "metadata": {},
      "outputs": [],
      "source": [
        "plt.figure(figsize=(12, 7))\n",
        "plt.plot(K_range_silhouette, silhouette_scores, marker='s', linewidth=2, markersize=10, \n",
        "         color='green', markerfacecolor='yellow', markeredgecolor='black')\n",
        "plt.xlabel('Number of Clusters (K)', fontsize=13)\n",
        "plt.ylabel('Silhouette Score', fontsize=13)\n",
        "plt.title('Silhouette Score vs Number of Clusters', fontsize=15, fontweight='bold')\n",
        "plt.grid(True, alpha=0.3)\n",
        "plt.xticks(K_range_silhouette)\n",
        "plt.axhline(y=0, color='r', linestyle='--', alpha=0.5)\n",
        "plt.tight_layout()\n",
        "plt.savefig('silhouette_scores.png', dpi=150, bbox_inches='tight')\n",
        "plt.show()\n",
        "\n",
        "optimal_k_silhouette = K_range_silhouette[np.argmax(silhouette_scores)]\n",
        "print(f\"\\n\ud83c\udfaf Optimal K (Silhouette Score): {optimal_k_silhouette}\")\n",
        "\n",
        "\n"
      ]
    },
    {
      "cell_type": "markdown",
      "metadata": {},
      "source": [
        "## Cell 12: Comprehensive Evaluation Metrics\n"
      ]
    },
    {
      "cell_type": "code",
      "execution_count": null,
      "metadata": {},
      "outputs": [],
      "source": [
        "print(\"\\n\ud83d\udcca Comprehensive Cluster Evaluation Metrics\")\n",
        "print(\"=\"*100)\n",
        "print(f\"{'K':<5} {'WCSS':<15} {'Silhouette':<15} {'Davies-Bouldin':<20} {'Calinski-Harabasz':<20}\")\n",
        "print(\"=\"*100)\n",
        "\n",
        "davies_bouldin_scores = []\n",
        "calinski_harabasz_scores = []\n",
        "\n",
        "for i, k in enumerate(K_range_silhouette):\n",
        "    kmeans = KMeans(n_clusters=k, init='k-means++', random_state=42, n_init=10)\n",
        "    labels = kmeans.fit_predict(X_scaled)\n",
        "    \n",
        "    sil_score = silhouette_scores[i]\n",
        "    db_score = davies_bouldin_score(X_scaled, labels)\n",
        "    ch_score = calinski_harabasz_score(X_scaled, labels)\n",
        "    \n",
        "    davies_bouldin_scores.append(db_score)\n",
        "    calinski_harabasz_scores.append(ch_score)\n",
        "    \n",
        "    wcss_value = wcss[k-1]\n",
        "    \n",
        "    print(f\"{k:<5} {wcss_value:<15.2f} {sil_score:<15.4f} {db_score:<20.4f} {ch_score:<20.2f}\")\n",
        "\n",
        "print(\"=\"*100)\n",
        "\n",
        "\n"
      ]
    },
    {
      "cell_type": "markdown",
      "metadata": {},
      "source": [
        "## Cell 13: Plot All Metrics\n"
      ]
    },
    {
      "cell_type": "code",
      "execution_count": null,
      "metadata": {},
      "outputs": [],
      "source": [
        "fig, axes = plt.subplots(2, 2, figsize=(16, 12))\n",
        "\n",
        "# WCSS\n",
        "axes[0, 0].plot(K_range, wcss, marker='o', linewidth=2, markersize=8, color='steelblue')\n",
        "axes[0, 0].set_xlabel('Number of Clusters (K)', fontsize=11)\n",
        "axes[0, 0].set_ylabel('WCSS (Inertia)', fontsize=11)\n",
        "axes[0, 0].set_title('Elbow Method (WCSS)', fontsize=13, fontweight='bold')\n",
        "axes[0, 0].grid(alpha=0.3)\n",
        "axes[0, 0].set_xticks(K_range)\n",
        "\n",
        "# Silhouette Score\n",
        "axes[0, 1].plot(K_range_silhouette, silhouette_scores, marker='s', linewidth=2, markersize=8, color='green')\n",
        "axes[0, 1].set_xlabel('Number of Clusters (K)', fontsize=11)\n",
        "axes[0, 1].set_ylabel('Silhouette Score', fontsize=11)\n",
        "axes[0, 1].set_title('Silhouette Score', fontsize=13, fontweight='bold')\n",
        "axes[0, 1].grid(alpha=0.3)\n",
        "axes[0, 1].set_xticks(K_range_silhouette)\n",
        "\n",
        "# Davies-Bouldin Index\n",
        "axes[1, 0].plot(K_range_silhouette, davies_bouldin_scores, marker='^', linewidth=2, markersize=8, color='red')\n",
        "axes[1, 0].set_xlabel('Number of Clusters (K)', fontsize=11)\n",
        "axes[1, 0].set_ylabel('Davies-Bouldin Index', fontsize=11)\n",
        "axes[1, 0].set_title('Davies-Bouldin Index', fontsize=13, fontweight='bold')\n",
        "axes[1, 0].grid(alpha=0.3)\n",
        "axes[1, 0].set_xticks(K_range_silhouette)\n",
        "\n",
        "# Calinski-Harabasz Score\n",
        "axes[1, 1].plot(K_range_silhouette, calinski_harabasz_scores, marker='D', linewidth=2, markersize=8, color='purple')\n",
        "axes[1, 1].set_xlabel('Number of Clusters (K)', fontsize=11)\n",
        "axes[1, 1].set_ylabel('Calinski-Harabasz Score', fontsize=11)\n",
        "axes[1, 1].set_title('Calinski-Harabasz Score', fontsize=13, fontweight='bold')\n",
        "axes[1, 1].grid(alpha=0.3)\n",
        "axes[1, 1].set_xticks(K_range_silhouette)\n",
        "\n",
        "plt.tight_layout()\n",
        "plt.savefig('all_metrics.png', dpi=150, bbox_inches='tight')\n",
        "plt.show()\n",
        "\n",
        "\n"
      ]
    },
    {
      "cell_type": "markdown",
      "metadata": {},
      "source": [
        "## Cell 14: Determine Optimal K\n"
      ]
    },
    {
      "cell_type": "code",
      "execution_count": null,
      "metadata": {},
      "outputs": [],
      "source": [
        "print(\"\\n\ud83c\udfaf Optimal K Determination\")\n",
        "print(\"=\"*70)\n",
        "\n",
        "optimal_k_davies = K_range_silhouette[np.argmin(davies_bouldin_scores)]\n",
        "optimal_k_calinski = K_range_silhouette[np.argmax(calinski_harabasz_scores)]\n",
        "\n",
        "print(f\"Based on Silhouette Score: K = {optimal_k_silhouette}\")\n",
        "print(f\"Based on Davies-Bouldin Index: K = {optimal_k_davies}\")\n",
        "print(f\"Based on Calinski-Harabasz Score: K = {optimal_k_calinski}\")\n",
        "\n",
        "# Choose final optimal K\n",
        "optimal_k = 5\n",
        "\n",
        "print(f\"\\n\u2705 Final Optimal K Selected: {optimal_k}\")\n",
        "print(\"\\n\ud83d\udca1 Business Justification:\")\n",
        "print(\"   5 clusters represent distinct customer segments\")\n",
        "\n",
        "\n"
      ]
    },
    {
      "cell_type": "markdown",
      "metadata": {},
      "source": [
        "## Cell 15: Train Final K-Means Model\n"
      ]
    },
    {
      "cell_type": "code",
      "execution_count": null,
      "metadata": {},
      "outputs": [],
      "source": [
        "print(f\"\\n\ud83e\udd16 Training K-Means with K={optimal_k}...\")\n",
        "print(\"=\"*70)\n",
        "\n",
        "kmeans_final = KMeans(\n",
        "    n_clusters=optimal_k,\n",
        "    init='k-means++',\n",
        "    n_init=10,\n",
        "    max_iter=300,\n",
        "    random_state=42\n",
        ")\n",
        "\n",
        "cluster_labels = kmeans_final.fit_predict(X_scaled)\n",
        "cluster_centers = kmeans_final.cluster_centers_\n",
        "\n",
        "df['Cluster'] = cluster_labels\n",
        "\n",
        "print(f\"\u2705 K-Means clustering completed!\")\n",
        "print(f\"\\nModel Parameters:\")\n",
        "print(f\"  Number of clusters: {kmeans_final.n_clusters}\")\n",
        "print(f\"  Iterations run: {kmeans_final.n_iter_}\")\n",
        "print(f\"  Final inertia: {kmeans_final.inertia_:.2f}\")\n",
        "\n",
        "\n"
      ]
    },
    {
      "cell_type": "markdown",
      "metadata": {},
      "source": [
        "## Cell 16: Cluster Distribution Analysis\n"
      ]
    },
    {
      "cell_type": "code",
      "execution_count": null,
      "metadata": {},
      "outputs": [],
      "source": [
        "print(\"\\n\ud83d\udcca Cluster Distribution:\")\n",
        "print(\"=\"*70)\n",
        "cluster_counts = df['Cluster'].value_counts().sort_index()\n",
        "print(cluster_counts)\n",
        "print(f\"\\nPercentage:\")\n",
        "print((cluster_counts / len(df) * 100).round(2))\n",
        "\n",
        "fig, axes = plt.subplots(1, 2, figsize=(14, 5))\n",
        "\n",
        "# Bar chart\n",
        "cluster_counts.plot(kind='bar', ax=axes[0], color='skyblue', edgecolor='black')\n",
        "axes[0].set_title('Customer Count per Cluster', fontsize=14, fontweight='bold')\n",
        "axes[0].set_xlabel('Cluster', fontsize=12)\n",
        "axes[0].set_ylabel('Number of Customers', fontsize=12)\n",
        "axes[0].set_xticklabels(axes[0].get_xticklabels(), rotation=0)\n",
        "axes[0].grid(alpha=0.3, axis='y')\n",
        "\n",
        "# Pie chart\n",
        "colors_pie = ['#FF6B6B', '#4ECDC4', '#45B7D1', '#FFA07A', '#98D8C8']\n",
        "axes[1].pie(cluster_counts, labels=[f'Cluster {i}' for i in cluster_counts.index], \n",
        "            autopct='%1.1f%%', colors=colors_pie, startangle=90)\n",
        "axes[1].set_title('Cluster Proportion', fontsize=14, fontweight='bold')\n",
        "\n",
        "plt.tight_layout()\n",
        "plt.savefig('cluster_distribution.png', dpi=150, bbox_inches='tight')\n",
        "plt.show()\n",
        "\n",
        "\n"
      ]
    },
    {
      "cell_type": "markdown",
      "metadata": {},
      "source": [
        "## Cell 17: Cluster Profiling\n"
      ]
    },
    {
      "cell_type": "code",
      "execution_count": null,
      "metadata": {},
      "outputs": [],
      "source": [
        "print(\"\\n\ud83d\udccb Cluster Profile - Mean Values:\")\n",
        "print(\"=\"*100)\n",
        "cluster_profile = df.groupby('Cluster')[['Age', 'Annual Income (k$)', 'Spending Score (1-100)']].mean()\n",
        "print(cluster_profile.round(2))\n",
        "\n",
        "print(\"\\n\ud83d\udccb Detailed Cluster Profiles:\")\n",
        "print(\"=\"*100)\n",
        "for cluster_id in range(optimal_k):\n",
        "    cluster_data = df[df['Cluster'] == cluster_id]\n",
        "    print(f\"\\nCluster {cluster_id}:\")\n",
        "    print(f\"  Size: {len(cluster_data)} customers ({len(cluster_data)/len(df)*100:.1f}%)\")\n",
        "    print(f\"  Avg Age: {cluster_data['Age'].mean():.1f} years\")\n",
        "    print(f\"  Avg Income: ${cluster_data['Annual Income (k$)'].mean():.1f}k\")\n",
        "    print(f\"  Avg Spending: {cluster_data['Spending Score (1-100)'].mean():.1f}/100\")\n",
        "\n",
        "\n"
      ]
    },
    {
      "cell_type": "markdown",
      "metadata": {},
      "source": [
        "## Cell 18: Visualize Cluster Profiles\n"
      ]
    },
    {
      "cell_type": "code",
      "execution_count": null,
      "metadata": {},
      "outputs": [],
      "source": [
        "fig, axes = plt.subplots(1, 3, figsize=(18, 5))\n",
        "features = ['Age', 'Annual Income (k$)', 'Spending Score (1-100)']\n",
        "colors = ['#FF6B6B', '#4ECDC4', '#45B7D1']\n",
        "\n",
        "for idx, feature in enumerate(features):\n",
        "    cluster_profile[feature].plot(kind='bar', ax=axes[idx], color=colors[idx], edgecolor='black')\n",
        "    axes[idx].set_title(f'Average {feature} by Cluster', fontsize=12, fontweight='bold')\n",
        "    axes[idx].set_xlabel('Cluster', fontsize=10)\n",
        "    axes[idx].set_ylabel(f'Average {feature}', fontsize=10)\n",
        "    axes[idx].set_xticklabels(axes[idx].get_xticklabels(), rotation=0)\n",
        "    axes[idx].grid(alpha=0.3, axis='y')\n",
        "\n",
        "plt.tight_layout()\n",
        "plt.savefig('cluster_profiles.png', dpi=150, bbox_inches='tight')\n",
        "plt.show()\n",
        "\n",
        "\n"
      ]
    },
    {
      "cell_type": "markdown",
      "metadata": {},
      "source": [
        "## Cell 19: 2D Cluster Visualization\n"
      ]
    },
    {
      "cell_type": "code",
      "execution_count": null,
      "metadata": {},
      "outputs": [],
      "source": [
        "plt.figure(figsize=(14, 10))\n",
        "\n",
        "colors_clusters = ['#FF6B6B', '#4ECDC4', '#45B7D1', '#FFA07A', '#98D8C8']\n",
        "\n",
        "for i in range(optimal_k):\n",
        "    cluster_data = df[df['Cluster'] == i]\n",
        "    plt.scatter(cluster_data['Annual Income (k$)'], \n",
        "                cluster_data['Spending Score (1-100)'],\n",
        "                s=100, c=colors_clusters[i], label=f'Cluster {i}',\n",
        "                alpha=0.6, edgecolors='black', linewidth=0.5)\n",
        "\n",
        "# Plot centroids\n",
        "centroids_original = scaler.inverse_transform(cluster_centers)\n",
        "plt.scatter(centroids_original[:, 0], centroids_original[:, 1],\n",
        "            s=400, c='yellow', marker='*', edgecolors='black', linewidth=2,\n",
        "            label='Centroids', zorder=10)\n",
        "\n",
        "plt.xlabel('Annual Income (k$)', fontsize=13)\n",
        "plt.ylabel('Spending Score (1-100)', fontsize=13)\n",
        "plt.title('Customer Segments - K-Means Clustering', fontsize=16, fontweight='bold')\n",
        "plt.legend(fontsize=11, loc='upper right')\n",
        "plt.grid(alpha=0.3)\n",
        "plt.tight_layout()\n",
        "plt.savefig('cluster_visualization.png', dpi=150, bbox_inches='tight')\n",
        "plt.show()\n",
        "\n",
        "print(\"\\n\ud83c\udfa8 Cluster Visualization Complete!\")\n",
        "print(\"\u2b50 Yellow stars represent cluster centroids\")\n",
        "\n",
        "\n"
      ]
    },
    {
      "cell_type": "markdown",
      "metadata": {},
      "source": [
        "## Cell 20: 3D Visualization\n"
      ]
    },
    {
      "cell_type": "code",
      "execution_count": null,
      "metadata": {},
      "outputs": [],
      "source": [
        "fig = plt.figure(figsize=(14, 10))\n",
        "ax = fig.add_subplot(111, projection='3d')\n",
        "\n",
        "for i in range(optimal_k):\n",
        "    cluster_data = df[df['Cluster'] == i]\n",
        "    ax.scatter(cluster_data['Annual Income (k$)'],\n",
        "               cluster_data['Spending Score (1-100)'],\n",
        "               cluster_data['Age'],\n",
        "               s=100, c=colors_clusters[i], label=f'Cluster {i}',\n",
        "               alpha=0.6, edgecolors='black', linewidth=0.5)\n",
        "\n",
        "ax.set_xlabel('Annual Income (k$)', fontsize=11)\n",
        "ax.set_ylabel('Spending Score (1-100)', fontsize=11)\n",
        "ax.set_zlabel('Age', fontsize=11)\n",
        "ax.set_title('3D Customer Segmentation', fontsize=14, fontweight='bold')\n",
        "ax.legend(fontsize=10)\n",
        "plt.tight_layout()\n",
        "plt.savefig('cluster_3d.png', dpi=150, bbox_inches='tight')\n",
        "plt.show()\n",
        "\n",
        "\n"
      ]
    },
    {
      "cell_type": "markdown",
      "metadata": {},
      "source": [
        "## Cell 21: Final Model Evaluation\n"
      ]
    },
    {
      "cell_type": "code",
      "execution_count": null,
      "metadata": {},
      "outputs": [],
      "source": [
        "final_inertia = kmeans_final.inertia_\n",
        "final_silhouette = silhouette_score(X_scaled, cluster_labels)\n",
        "final_davies_bouldin = davies_bouldin_score(X_scaled, cluster_labels)\n",
        "final_calinski_harabasz = calinski_harabasz_score(X_scaled, cluster_labels)\n",
        "\n",
        "print(\"\\n\ud83d\udcca FINAL MODEL EVALUATION METRICS\")\n",
        "print(\"=\"*70)\n",
        "print(f\"Number of Clusters (K): {optimal_k}\")\n",
        "print(f\"\\n1. WCSS (Inertia): {final_inertia:.4f}\")\n",
        "print(f\"2. Silhouette Score: {final_silhouette:.4f}\")\n",
        "print(f\"3. Davies-Bouldin Index: {final_davies_bouldin:.4f}\")\n",
        "print(f\"4. Calinski-Harabasz Score: {final_calinski_harabasz:.4f}\")\n",
        "print(\"=\"*70)\n",
        "\n",
        "\n"
      ]
    },
    {
      "cell_type": "markdown",
      "metadata": {},
      "source": [
        "## Cell 22: Business Interpretation\n"
      ]
    },
    {
      "cell_type": "code",
      "execution_count": null,
      "metadata": {},
      "outputs": [],
      "source": [
        "print(\"\\n\ud83c\udff7\ufe0f CLUSTER BUSINESS INTERPRETATION\")\n",
        "print(\"=\"*100)\n",
        "\n",
        "cluster_names = {}\n",
        "marketing_strategies = {}\n",
        "\n",
        "for i in range(optimal_k):\n",
        "    cluster_data = df[df['Cluster'] == i]\n",
        "    avg_income = cluster_data['Annual Income (k$)'].mean()\n",
        "    avg_spending = cluster_data['Spending Score (1-100)'].mean()\n",
        "    \n",
        "    if avg_income < 40 and avg_spending < 40:\n",
        "        name = \"Budget Conscious\"\n",
        "        strategy = \"Discounts, value deals, loyalty rewards\"\n",
        "    elif avg_income < 40 and avg_spending >= 60:\n",
        "        name = \"Aspirational Shoppers\"\n",
        "        strategy = \"Installment plans, credit options, seasonal promotions\"\n",
        "    elif avg_income >= 70 and avg_spending < 40:\n",
        "        name = \"Potential High Value\"\n",
        "        strategy = \"Premium products, exclusive previews, personalization\"\n",
        "    elif avg_income >= 70 and avg_spending >= 60:\n",
        "        name = \"Premium Customers\"\n",
        "        strategy = \"VIP treatment, exclusive events, premium launches\"\n",
        "    else:\n",
        "        name = \"Average Customers\"\n",
        "        strategy = \"Standard marketing, balanced mix, regular promotions\"\n",
        "    \n",
        "    cluster_names[i] = name\n",
        "    marketing_strategies[i] = strategy\n",
        "    \n",
        "    print(f\"\\nCluster {i}: {name}\")\n",
        "    print(f\"{'\u2500'*95}\")\n",
        "    print(f\"  \ud83d\udcca Size: {len(cluster_data)} customers ({len(cluster_data)/len(df)*100:.1f}%)\")\n",
        "    print(f\"  \ud83d\udcb0 Avg Income: ${avg_income:.1f}k\")\n",
        "    print(f\"  \ud83d\uded2 Avg Spending: {avg_spending:.1f}/100\")\n",
        "    print(f\"  \ud83c\udfaf Strategy: {strategy}\")\n",
        "\n",
        "df['Cluster_Name'] = df['Cluster'].map(cluster_names)\n",
        "\n",
        "\n"
      ]
    },
    {
      "cell_type": "markdown",
      "metadata": {},
      "source": [
        "## Cell 23: Save Model\n"
      ]
    },
    {
      "cell_type": "code",
      "execution_count": null,
      "metadata": {},
      "outputs": [],
      "source": [
        "with open('kmeans_model.pkl', 'wb') as f:\n",
        "    pickle.dump(kmeans_final, f)\n",
        "\n",
        "with open('kmeans_scaler.pkl', 'wb') as f:\n",
        "    pickle.dump(scaler, f)\n",
        "\n",
        "with open('cluster_names.pkl', 'wb') as f:\n",
        "    pickle.dump(cluster_names, f)\n",
        "\n",
        "print(\"\\n\u2705 Model, scaler, and cluster names saved successfully!\")\n",
        "print(\"Files: kmeans_model.pkl, kmeans_scaler.pkl, cluster_names.pkl\")\n",
        "\n",
        "\n"
      ]
    },
    {
      "cell_type": "markdown",
      "metadata": {},
      "source": [
        "## Cell 24: Predict for New Customers\n"
      ]
    },
    {
      "cell_type": "code",
      "execution_count": null,
      "metadata": {},
      "outputs": [],
      "source": [
        "print(\"\\n\ud83d\udd2e Predicting Clusters for New Customers\")\n",
        "print(\"=\"*70)\n",
        "\n",
        "new_customers = np.array([\n",
        "    [25, 30],  # Low income, low spending\n",
        "    [80, 85],  # High income, high spending\n",
        "    [50, 50],  # Medium income, medium spending\n",
        "])\n",
        "\n",
        "new_customers_scaled = scaler.transform(new_customers)\n",
        "new_clusters = kmeans_final.predict(new_customers_scaled)\n",
        "\n",
        "for i, (customer, cluster) in enumerate(zip(new_customers, new_clusters)):\n",
        "    print(f\"\\nNew Customer {i+1}:\")\n",
        "    print(f\"  Income: ${customer[0]}k, Spending: {customer[1]}/100\")\n",
        "    print(f\"  \u2192 Cluster {cluster}: {cluster_names[cluster]}\")\n",
        "    print(f\"  \u2192 Strategy: {marketing_strategies[cluster]}\")\n",
        "\n",
        "\n",
        "print(\"\\n\" + \"=\"*70)\n",
        "print(\"\u2705 K-MEANS CLUSTERING PROJECT COMPLETE!\")\n",
        "print(\"=\"*70)\n",
        "print(\"\\n\ud83d\udcda Key Achievements:\")\n",
        "print(\"  \u2713 Implemented K-Means with Elbow Method\")\n",
        "print(\"  \u2713 Evaluated with multiple metrics\")\n",
        "print(\"  \u2713 Visualized clusters in 2D and 3D\")\n",
        "print(\"  \u2713 Profiled customer segments\")\n",
        "print(\"  \u2713 Provided business insights\")\n",
        "print(\"  \u2713 Saved model for production use\")\n",
        "print(\"\\n\ud83c\udfaf Happy Clustering! \ud83d\ude80\")\n",
        "\n",
        "\n"
      ]
    }
  ],
  "metadata": {
    "kernelspec": {
      "display_name": "Python 3",
      "language": "python",
      "name": "python3"
    },
    "language_info": {
      "codemirror_mode": {
        "name": "ipython",
        "version": 3
      },
      "file_extension": ".py",
      "mimetype": "text/x-python",
      "name": "python",
      "nbconvert_exporter": "python",
      "pygments_lexer": "ipython3",
      "version": "3.8.0"
    }
  },
  "nbformat": 4,
  "nbformat_minor": 4
}